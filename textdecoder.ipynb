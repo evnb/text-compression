{
 "cells": [
  {
   "cell_type": "code",
   "execution_count": 15,
   "metadata": {
    "ExecuteTime": {
     "end_time": "2020-04-06T15:42:09.508292Z",
     "start_time": "2020-04-06T15:42:09.498300Z"
    }
   },
   "outputs": [],
   "source": [
    "#import console\n",
    "import re"
   ]
  },
  {
   "cell_type": "code",
   "execution_count": 16,
   "metadata": {
    "ExecuteTime": {
     "end_time": "2020-04-06T15:42:10.009444Z",
     "start_time": "2020-04-06T15:42:10.004791Z"
    }
   },
   "outputs": [],
   "source": [
    "verb = 2\n",
    "\n",
    "beginbin = [] #destructive\n",
    "workingstr = [] #constructive"
   ]
  },
  {
   "cell_type": "code",
   "execution_count": 17,
   "metadata": {
    "ExecuteTime": {
     "end_time": "2020-04-06T15:42:10.548704Z",
     "start_time": "2020-04-06T15:42:10.542110Z"
    }
   },
   "outputs": [],
   "source": [
    "#FOR DECODE. Create decimal from padded binary\n",
    "def largenumdec(): #using double Size Method\n",
    "    global beginbin\n",
    "    oneindex = beginbin.index('1')\n",
    "    numlength = oneindex * 2 + 1\n",
    "    print(''.join(beginbin[:numlength]))\n",
    "    #assert 0 < oneindex\n",
    "    assert len(beginbin) >= numlength-1 #+1-1\n",
    "    toret = int(\"\".join(beginbin[oneindex:numlength]),2)\n",
    "    beginbin = beginbin[numlength:]\n",
    "    return toret"
   ]
  },
  {
   "cell_type": "code",
   "execution_count": 18,
   "metadata": {
    "ExecuteTime": {
     "end_time": "2020-04-06T15:42:11.250980Z",
     "start_time": "2020-04-06T15:42:11.240610Z"
    }
   },
   "outputs": [
    {
     "name": "stdout",
     "output_type": "stream",
     "text": [
      "000111000100001011001011001110011010001100011000011010001101000000001100000100011010001000010010011010000100010101000000001101\n"
     ]
    },
    {
     "data": {
      "text/plain": [
       "['0',\n",
       " '0',\n",
       " '0',\n",
       " '1',\n",
       " '1',\n",
       " '1',\n",
       " '0',\n",
       " '0',\n",
       " '0',\n",
       " '1',\n",
       " '0',\n",
       " '0',\n",
       " '0',\n",
       " '0',\n",
       " '1',\n",
       " '0',\n",
       " '1',\n",
       " '1',\n",
       " '0',\n",
       " '0',\n",
       " '1',\n",
       " '0',\n",
       " '1',\n",
       " '1',\n",
       " '0',\n",
       " '0',\n",
       " '1',\n",
       " '1',\n",
       " '1',\n",
       " '0',\n",
       " '0',\n",
       " '1',\n",
       " '1',\n",
       " '0',\n",
       " '1',\n",
       " '0',\n",
       " '0',\n",
       " '0',\n",
       " '1',\n",
       " '1',\n",
       " '0',\n",
       " '0',\n",
       " '0',\n",
       " '1',\n",
       " '1',\n",
       " '0',\n",
       " '0',\n",
       " '0',\n",
       " '0',\n",
       " '1',\n",
       " '1',\n",
       " '0',\n",
       " '1',\n",
       " '0',\n",
       " '0',\n",
       " '0',\n",
       " '1',\n",
       " '1',\n",
       " '0',\n",
       " '1',\n",
       " '0',\n",
       " '0',\n",
       " '0',\n",
       " '0',\n",
       " '0',\n",
       " '0',\n",
       " '0',\n",
       " '0',\n",
       " '1',\n",
       " '1',\n",
       " '0',\n",
       " '0',\n",
       " '0',\n",
       " '0',\n",
       " '0',\n",
       " '1',\n",
       " '0',\n",
       " '0',\n",
       " '0',\n",
       " '1',\n",
       " '1',\n",
       " '0',\n",
       " '1',\n",
       " '0',\n",
       " '0',\n",
       " '0',\n",
       " '1',\n",
       " '0',\n",
       " '0',\n",
       " '0',\n",
       " '0',\n",
       " '1',\n",
       " '0',\n",
       " '0',\n",
       " '1',\n",
       " '0',\n",
       " '0',\n",
       " '1',\n",
       " '1',\n",
       " '0',\n",
       " '1',\n",
       " '0',\n",
       " '0',\n",
       " '0',\n",
       " '0',\n",
       " '1',\n",
       " '0',\n",
       " '0',\n",
       " '0',\n",
       " '1',\n",
       " '0',\n",
       " '1',\n",
       " '0',\n",
       " '1',\n",
       " '0',\n",
       " '0',\n",
       " '0',\n",
       " '0',\n",
       " '0',\n",
       " '0',\n",
       " '0',\n",
       " '0',\n",
       " '1',\n",
       " '1',\n",
       " '0',\n",
       " '1']"
      ]
     },
     "execution_count": 18,
     "metadata": {},
     "output_type": "execute_result"
    }
   ],
   "source": [
    "inbinary = \"000111000100001011001011001110011010001100011000011010001101000000001100000100011010001000010010011010000100010101000000001101\"\n",
    "print(inbinary)\n",
    "beginbin = list(inbinary)\n",
    "beginbin"
   ]
  },
  {
   "cell_type": "code",
   "execution_count": 19,
   "metadata": {
    "ExecuteTime": {
     "end_time": "2020-04-06T15:42:12.551847Z",
     "start_time": "2020-04-06T15:42:12.511300Z"
    }
   },
   "outputs": [
    {
     "name": "stdout",
     "output_type": "stream",
     "text": [
      "000111000100001011001011001110011010001100011000011010001101000000001100000100011010001000010010011010000100010101000000001101\n",
      "0\n",
      "alphanumeric\n",
      "7\n",
      "is letter\n",
      "h\n",
      "000100001011001011001110011010001100011000011010001101000000001100000100011010001000010010011010000100010101000000001101\n",
      "0\n",
      "alphanumeric\n",
      "4\n",
      "is letter\n",
      "e\n",
      "001011001011001110011010001100011000011010001101000000001100000100011010001000010010011010000100010101000000001101\n",
      "0\n",
      "alphanumeric\n",
      "11\n",
      "is letter\n",
      "l\n",
      "001011001110011010001100011000011010001101000000001100000100011010001000010010011010000100010101000000001101\n",
      "0\n",
      "alphanumeric\n",
      "11\n",
      "is letter\n",
      "l\n",
      "001110011010001100011000011010001101000000001100000100011010001000010010011010000100010101000000001101\n",
      "0\n",
      "alphanumeric\n",
      "14\n",
      "is letter\n",
      "o\n",
      "011010001100011000011010001101000000001100000100011010001000010010011010000100010101000000001101\n",
      "0\n",
      "alphanumeric\n",
      "26\n",
      "is space\n",
      "001100011000011010001101000000001100000100011010001000010010011010000100010101000000001101\n",
      "0\n",
      "alphanumeric\n",
      "12\n",
      "is letter\n",
      "m\n",
      "011000011010001101000000001100000100011010001000010010011010000100010101000000001101\n",
      "0\n",
      "alphanumeric\n",
      "24\n",
      "is letter\n",
      "y\n",
      "011010001101000000001100000100011010001000010010011010000100010101000000001101\n",
      "0\n",
      "alphanumeric\n",
      "26\n",
      "is space\n",
      "001101000000001100000100011010001000010010011010000100010101000000001101\n",
      "0\n",
      "alphanumeric\n",
      "13\n",
      "is letter\n",
      "n\n",
      "000000001100000100011010001000010010011010000100010101000000001101\n",
      "0\n",
      "alphanumeric\n",
      "0\n",
      "is letter\n",
      "a\n",
      "001100000100011010001000010010011010000100010101000000001101\n",
      "0\n",
      "alphanumeric\n",
      "12\n",
      "is letter\n",
      "m\n",
      "000100011010001000010010011010000100010101000000001101\n",
      "0\n",
      "alphanumeric\n",
      "4\n",
      "is letter\n",
      "e\n",
      "011010001000010010011010000100010101000000001101\n",
      "0\n",
      "alphanumeric\n",
      "26\n",
      "is space\n",
      "001000010010011010000100010101000000001101\n",
      "0\n",
      "alphanumeric\n",
      "8\n",
      "is letter\n",
      "i\n",
      "010010011010000100010101000000001101\n",
      "0\n",
      "alphanumeric\n",
      "18\n",
      "is letter\n",
      "s\n",
      "011010000100010101000000001101\n",
      "0\n",
      "alphanumeric\n",
      "26\n",
      "is space\n",
      "000100010101000000001101\n",
      "0\n",
      "alphanumeric\n",
      "4\n",
      "is letter\n",
      "e\n",
      "010101000000001101\n",
      "0\n",
      "alphanumeric\n",
      "21\n",
      "is letter\n",
      "v\n",
      "000000001101\n",
      "0\n",
      "alphanumeric\n",
      "0\n",
      "is letter\n",
      "a\n",
      "001101\n",
      "0\n",
      "alphanumeric\n",
      "13\n",
      "is letter\n",
      "n\n",
      "Done!\n"
     ]
    }
   ],
   "source": [
    "global workingstr\n",
    "global beginbin\n",
    "while len(beginbin) > 0:\n",
    "    print(''.join(beginbin))\n",
    "    currentbit = beginbin.pop(0)\n",
    "    print(currentbit)\n",
    "    if(currentbit == \"0\"):\n",
    "        if(verb >= 1):\n",
    "            print('alphanumeric')\n",
    "        assert len(beginbin) >= 5\n",
    "        #3 bits 0-25 is a-z\n",
    "        incharnum = int(\"\".join(beginbin[:5]),2)\n",
    "        if(verb >= 2):\n",
    "            print(incharnum)\n",
    "        beginbin = beginbin[5:]\n",
    "        if(incharnum < 26): #h\n",
    "            if(verb >= 1):\n",
    "                print('is letter')\n",
    "            inchar = chr(incharnum + 97)\n",
    "            print(inchar)\n",
    "            workingstr.append(inchar)\n",
    "        elif(incharnum == 26):\n",
    "            if(verb >= 1):\n",
    "                print('is space')\n",
    "            workingstr.append(' ')\n",
    "        else:\n",
    "            if(verb >= 1):\n",
    "                print('nonletter')\n",
    "    elif(currentbit == \"1\"):\n",
    "        if(verb >= 1):\n",
    "            print('is number')\n",
    "        innum = largenumdec()\n",
    "        print(innum)\n",
    "        workingstr += list(str(innum))\n",
    "    else:\n",
    "        print('unrecognized binary')\n",
    "        assert False\n",
    "print(\"Done!\")"
   ]
  },
  {
   "cell_type": "code",
   "execution_count": 20,
   "metadata": {
    "ExecuteTime": {
     "end_time": "2020-04-06T15:42:13.343955Z",
     "start_time": "2020-04-06T15:42:13.339309Z"
    }
   },
   "outputs": [
    {
     "data": {
      "text/plain": [
       "'hello my name is evan'"
      ]
     },
     "execution_count": 20,
     "metadata": {},
     "output_type": "execute_result"
    }
   ],
   "source": [
    "\"\".join(workingstr)"
   ]
  },
  {
   "cell_type": "code",
   "execution_count": 13,
   "metadata": {
    "ExecuteTime": {
     "end_time": "2020-04-06T15:38:30.074206Z",
     "start_time": "2020-04-06T15:38:30.070208Z"
    }
   },
   "outputs": [
    {
     "data": {
      "text/plain": [
       "[]"
      ]
     },
     "execution_count": 13,
     "metadata": {},
     "output_type": "execute_result"
    }
   ],
   "source": [
    "beginbin"
   ]
  },
  {
   "cell_type": "code",
   "execution_count": 5,
   "metadata": {
    "ExecuteTime": {
     "end_time": "2020-04-06T15:35:40.157405Z",
     "start_time": "2020-04-06T15:35:40.153371Z"
    }
   },
   "outputs": [
    {
     "data": {
      "text/plain": [
       "[]"
      ]
     },
     "execution_count": 5,
     "metadata": {},
     "output_type": "execute_result"
    }
   ],
   "source": [
    "workingstr"
   ]
  },
  {
   "cell_type": "code",
   "execution_count": 6,
   "metadata": {
    "ExecuteTime": {
     "end_time": "2020-04-06T15:35:52.481508Z",
     "start_time": "2020-04-06T15:35:52.476104Z"
    }
   },
   "outputs": [],
   "source": [
    "#FOR ENCODE. Create padded binary from decimal\n",
    "def largedecnum(numin): #using double Size Method\n",
    "    basebin = bin(numin)[2:]\n",
    "    print(basebin)\n",
    "    pado = \"0\"*(len(basebin)-1)\n",
    "    return pado + basebin"
   ]
  },
  {
   "cell_type": "code",
   "execution_count": null,
   "metadata": {
    "ExecuteTime": {
     "end_time": "2020-04-06T00:09:43.118663Z",
     "start_time": "2020-04-06T00:09:43.113802Z"
    }
   },
   "outputs": [],
   "source": []
  },
  {
   "cell_type": "code",
   "execution_count": 33,
   "metadata": {
    "ExecuteTime": {
     "end_time": "2020-04-05T23:57:50.838015Z",
     "start_time": "2020-04-05T23:57:50.834271Z"
    }
   },
   "outputs": [
    {
     "name": "stdout",
     "output_type": "stream",
     "text": [
      "42\n",
      "['1', '0', '1', '0', '1', '0']\n"
     ]
    }
   ],
   "source": [
    "mynum = largenumdec()\n",
    "print(mynum)\n",
    "print(beginbin)"
   ]
  },
  {
   "cell_type": "code",
   "execution_count": 34,
   "metadata": {
    "ExecuteTime": {
     "end_time": "2020-04-05T23:59:51.244958Z",
     "start_time": "2020-04-05T23:59:51.240732Z"
    }
   },
   "outputs": [
    {
     "data": {
      "text/plain": [
       "['1', '0', '1', '0', '1', '0']"
      ]
     },
     "execution_count": 34,
     "metadata": {},
     "output_type": "execute_result"
    }
   ],
   "source": [
    "beginbin"
   ]
  },
  {
   "cell_type": "code",
   "execution_count": null,
   "metadata": {},
   "outputs": [],
   "source": [
    "def retrieve(retlen):\n",
    "    if verb >= 2:\n",
    "        print('retrieving ' + str(retlen))\n",
    "    assert len(beginbin) >= retlen\n",
    "    toret = []\n",
    "    for i in range(retlen):\n",
    "        toret.append(beginbin.pop(0))\n",
    "    return join(toret)"
   ]
  },
  {
   "cell_type": "code",
   "execution_count": 12,
   "metadata": {
    "ExecuteTime": {
     "end_time": "2020-04-05T23:46:25.479795Z",
     "start_time": "2020-04-05T23:46:25.475776Z"
    }
   },
   "outputs": [],
   "source": [
    "def largenumdec(): #using double Size Method\n",
    "    oneindex = beginbin.index('1')\n",
    "    numlength = oneindex * 2 + 1\n",
    "    assert 0 < oneindex\n",
    "    assert len(beginbin) >= numlength-1 #+1-1\n",
    "    toret = int(beginbin[oneindex:numlength],2)\n",
    "    beginbin = beginbin[numlength:]\n",
    "    return toret"
   ]
  },
  {
   "cell_type": "code",
   "execution_count": null,
   "metadata": {},
   "outputs": [],
   "source": [
    "def alphanumeric(inbin):\n",
    "    if(verb >= 1):\n",
    "        print('alphanumeric')\n",
    "    #1 bit\n",
    "    if(inbin[0] == '0'):\n",
    "        #3 bits 0-25 is a-z\n",
    "        incharnum = int(inbin[1:4],2)\n",
    "        if(incharnum < 26): #h\n",
    "            if(verb >= 1):\n",
    "                print('is letter')\n",
    "            inchar = chr(incharnum + 97)\n",
    "            print(inchar)\n",
    "            workingstr.append(inchar)\n",
    "\n",
    "    elif(inchar[0] == '1'):\n",
    "        print('1')\n",
    "\n",
    "    return "
   ]
  },
  {
   "cell_type": "code",
   "execution_count": null,
   "metadata": {},
   "outputs": [],
   "source": [
    "\t\n",
    "def repeat():\n",
    "\treturn"
   ]
  },
  {
   "cell_type": "code",
   "execution_count": null,
   "metadata": {},
   "outputs": [],
   "source": [
    "def main():\n",
    "\tfor n in range(30-40):\n",
    "\t\tprint(bytearray(n).decode())\n",
    "\tinbinary = \"0000010\"\n",
    "\tprint(inbinary)\n",
    "\tbeginbin = list(inbinary)\n",
    "\talphanumeric(inbinary[0:4])\n",
    "\t"
   ]
  },
  {
   "cell_type": "code",
   "execution_count": null,
   "metadata": {},
   "outputs": [],
   "source": [
    "if __name__ == '__main__':\n",
    "\tmain()\n",
    "\t"
   ]
  }
 ],
 "metadata": {
  "kernelspec": {
   "display_name": "Python3 (env)",
   "language": "python",
   "name": "py3env"
  },
  "language_info": {
   "codemirror_mode": {
    "name": "ipython",
    "version": 3
   },
   "file_extension": ".py",
   "mimetype": "text/x-python",
   "name": "python",
   "nbconvert_exporter": "python",
   "pygments_lexer": "ipython3",
   "version": "3.6.7"
  }
 },
 "nbformat": 4,
 "nbformat_minor": 4
}
