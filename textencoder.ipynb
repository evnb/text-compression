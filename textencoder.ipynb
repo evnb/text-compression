{
 "cells": [
  {
   "cell_type": "code",
   "execution_count": 24,
   "metadata": {
    "ExecuteTime": {
     "end_time": "2020-04-09T22:40:14.215670Z",
     "start_time": "2020-04-09T22:40:14.211662Z"
    }
   },
   "outputs": [],
   "source": [
    "#import console\n",
    "import re"
   ]
  },
  {
   "cell_type": "code",
   "execution_count": 25,
   "metadata": {
    "ExecuteTime": {
     "end_time": "2020-04-09T22:40:14.680850Z",
     "start_time": "2020-04-09T22:40:14.677711Z"
    }
   },
   "outputs": [],
   "source": [
    "verb = 2\n",
    "\n",
    "workingbin = [] #destructive\n",
    "beginstr = [] #constructive"
   ]
  },
  {
   "cell_type": "code",
   "execution_count": 32,
   "metadata": {
    "ExecuteTime": {
     "end_time": "2020-04-09T22:40:51.098394Z",
     "start_time": "2020-04-09T22:40:51.090398Z"
    }
   },
   "outputs": [
    {
     "name": "stdout",
     "output_type": "stream",
     "text": [
      "a1a1a1a1a1a1a1a1a1a1a1a1a1a1a1a1\n"
     ]
    },
    {
     "data": {
      "text/plain": [
       "['a',\n",
       " '1',\n",
       " 'a',\n",
       " '1',\n",
       " 'a',\n",
       " '1',\n",
       " 'a',\n",
       " '1',\n",
       " 'a',\n",
       " '1',\n",
       " 'a',\n",
       " '1',\n",
       " 'a',\n",
       " '1',\n",
       " 'a',\n",
       " '1',\n",
       " 'a',\n",
       " '1',\n",
       " 'a',\n",
       " '1',\n",
       " 'a',\n",
       " '1',\n",
       " 'a',\n",
       " '1',\n",
       " 'a',\n",
       " '1',\n",
       " 'a',\n",
       " '1',\n",
       " 'a',\n",
       " '1',\n",
       " 'a',\n",
       " '1']"
      ]
     },
     "execution_count": 32,
     "metadata": {},
     "output_type": "execute_result"
    }
   ],
   "source": [
    "instr = \"a1a1a1a1a1a1a1a1a1a1a1a1a1a1a1a1\"\n",
    "print(instr)\n",
    "beginstr = list(instr)\n",
    "beginstr"
   ]
  },
  {
   "cell_type": "code",
   "execution_count": 33,
   "metadata": {
    "ExecuteTime": {
     "end_time": "2020-04-09T22:40:51.820139Z",
     "start_time": "2020-04-09T22:40:51.814957Z"
    }
   },
   "outputs": [],
   "source": [
    "#FOR ENCODE. Create padded binary from decimal\n",
    "def largedecnum(numin): #using double Size Method\n",
    "    basebin = bin(numin)[2:]\n",
    "    print(basebin)\n",
    "    pado = \"0\"*(len(basebin)-1)\n",
    "    return pado + basebin"
   ]
  },
  {
   "cell_type": "code",
   "execution_count": 34,
   "metadata": {
    "ExecuteTime": {
     "end_time": "2020-04-09T22:40:52.590100Z",
     "start_time": "2020-04-09T22:40:52.583906Z"
    }
   },
   "outputs": [
    {
     "name": "stdout",
     "output_type": "stream",
     "text": [
      "['0', '0', '0', '0', '0', '1', '1', '0', '1', '1', '1', '0', '0', '0', '0', '0', '1', '1', '0', '1', '1', '1', '0', '0', '0', '0', '0', '1', '1', '0', '1', '1', '1', '0', '0', '0', '0', '0', '1', '1', '0', '1', '1', '1', '0', '0', '0', '0', '0', '1', '1', '0', '1', '1', '1', '0', '0', '0', '0', '0', '1', '1', '0', '1', '1', '1', '0', '0', '0', '0', '0', '1', '1', '0', '1', '1', '1', '0', '0', '0', '0', '0', '1', '1', '0', '1', '1', '1', '0', '0', '0', '0', '0', '1', '1', '0', '1', '1', '1', '0', '0', '0', '0', '0', '1', '1', '0', '1', '1', '1', '0', '0', '0', '0', '0', '1', '1', '0', '1', '1', '1', '0', '0', '0', '0', '0', '1', '1', '0', '1', '1', '1', '0', '0', '0', '0', '0', '1', '1', '0', '1', '1', '1', '0', '0', '0', '0', '0', '1', '1', '0', '1', '1', '1', '0', '0', '0', '0', '0', '1', '1', '0', '1', '1', '1', '0', '0', '0', '0', '0', '1', '1', '0', '1', '1', '1', '0', '0', '0', '0', '0', '1', '1', '0', '1', '1', '1', '0', '0', '0', '0', '0', '1', '1', '0', '1', '1', '1', '0', '0', '0', '0', '0', '1', '1', '0', '1', '1', '1', '0', '0', '0', '0', '0', '1', '1', '0', '1', '1', '1', '0', '0', '0', '0', '0', '1', '1', '0', '1', '1', '1', '0', '0', '0', '0', '0', '1', '1', '0', '1', '1', '1', '0', '0', '0', '0', '0', '1', '1', '0', '1', '1', '1', '0', '0', '0', '0', '0', '1', '1', '0', '1', '1', '1', '0', '0', '0', '0', '0', '1', '1', '0', '1', '1', '1', '0', '0', '0', '0', '0', '1', '1', '0', '1', '1', '1', '0', '0', '0', '0', '0', '1', '1', '0', '1', '1', '1', '0', '0', '0', '0', '0', '1', '1', '0', '1', '1', '1', '0', '0', '0', '0', '0', '1', '1', '0', '1', '1', '1', '0', '0', '0', '0', '0', '1', '1', '0', '1', '1', '1', '0', '0', '0', '0', '0', '1', '1', '0', '1', '1', '1', '0', '0', '0', '0', '0', '1', '1', '0', '1', '1', '1', '0', '0', '0', '0', '0', '1', '1', '0', '1', '1', '1', '0', '0', '0', '0', '0', '1', '1', '0', '1', '1', '1', '0', '0', '0', '0', '0', '1', '1', '0', '1', '1', '1', '0', '0', '0', '0', '0', '1', '1', '0', '1', '1', '1', '0', '0', '0', '0', '0', '1', '1', '0', '1', '1', '1', '0', '0', '0', '0', '0', '1', '1', '0', '1', '1', '1', '0', '0', '0', '0', '0', '1', '1', '0', '1', '1', '1', '0', '0', '0', '0', '0', '1', '1', '0', '1', '1', '1', '0', '0', '0', '0', '0', '1', '1', '0', '1', '1', '1', '0', '0', '0', '0', '0', '1', '1', '0', '1', '1', '1', '0', '0', '0', '0', '0', '1', '1', '0', '1', '1', '1', '0', '0', '0', '0', '0', '1', '1', '0', '1', '1', '1', '0', '0', '0', '0', '0', '1', '1', '0', '1', '1', '1', '0', '0', '0', '0', '0', '1', '1', '0', '1', '1', '1', '0', '0', '0', '0', '0', '1', '1', '0', '1', '1', '1', '0', '0', '0', '0', '0', '1', '1', '0', '1', '1', '1']\n",
      "000001101110000011011100000110111000001101110000011011100000110111000001101110000011011100000110111000001101110000011011100000110111000001101110000011011100000110111000001101110000011011100000110111000001101110000011011100000110111000001101110000011011100000110111000001101110000011011100000110111000001101110000011011100000110111000001101110000011011100000110111000001101110000011011100000110111000001101110000011011100000110111000001101110000011011100000110111000001101110000011011100000110111000001101110000011011100000110111\n",
      "['a', '1', 'a', '1', 'a', '1', 'a', '1', 'a', '1', 'a', '1', 'a', '1', 'a', '1', 'a', '1', 'a', '1', 'a', '1', 'a', '1', 'a', '1', 'a', '1', 'a', '1', 'a', '1']\n"
     ]
    }
   ],
   "source": [
    "print(workingbin)\n",
    "print(\"\".join(workingbin))\n",
    "print(beginstr)"
   ]
  },
  {
   "cell_type": "code",
   "execution_count": 35,
   "metadata": {
    "ExecuteTime": {
     "end_time": "2020-04-09T22:40:53.605148Z",
     "start_time": "2020-04-09T22:40:53.574338Z"
    }
   },
   "outputs": [
    {
     "name": "stdout",
     "output_type": "stream",
     "text": [
      "a\n",
      "00000\n",
      "1\n",
      "1\n",
      "1\n",
      "a\n",
      "00000\n",
      "1\n",
      "1\n",
      "1\n",
      "a\n",
      "00000\n",
      "1\n",
      "1\n",
      "1\n",
      "a\n",
      "00000\n",
      "1\n",
      "1\n",
      "1\n",
      "a\n",
      "00000\n",
      "1\n",
      "1\n",
      "1\n",
      "a\n",
      "00000\n",
      "1\n",
      "1\n",
      "1\n",
      "a\n",
      "00000\n",
      "1\n",
      "1\n",
      "1\n",
      "a\n",
      "00000\n",
      "1\n",
      "1\n",
      "1\n",
      "a\n",
      "00000\n",
      "1\n",
      "1\n",
      "1\n",
      "a\n",
      "00000\n",
      "1\n",
      "1\n",
      "1\n",
      "a\n",
      "00000\n",
      "1\n",
      "1\n",
      "1\n",
      "a\n",
      "00000\n",
      "1\n",
      "1\n",
      "1\n",
      "a\n",
      "00000\n",
      "1\n",
      "1\n",
      "1\n",
      "a\n",
      "00000\n",
      "1\n",
      "1\n",
      "1\n",
      "a\n",
      "00000\n",
      "1\n",
      "1\n",
      "1\n",
      "a\n",
      "00000\n",
      "1\n",
      "1\n",
      "1\n"
     ]
    }
   ],
   "source": [
    "#v1.1, 5 bits per character, numbers have an added 5 bits.\n",
    "while len(beginstr) > 0:\n",
    "    currentchar = beginstr.pop(0)\n",
    "    print(currentchar)\n",
    "    if(re.search(\"[a-zA-Z]\", currentchar) != None):\n",
    "        if(currentchar.isupper()):\n",
    "            currentchar = currentchar.lower()\n",
    "        #workingbin.append(\"0\")\n",
    "        addedbin = format(ord(currentchar)-97, \"05b\")\n",
    "        if(verb >= 2):\n",
    "            print(addedbin)\n",
    "        workingbin += list(addedbin)\n",
    "    elif(re.search(\"\\s\", currentchar) != None): #for space add 26\n",
    "        #workingbin.append(\"0\")\n",
    "        addedbin = format(26, \"05b\")\n",
    "        if(verb >= 2):\n",
    "            print(addedbin)\n",
    "        workingbin += list(addedbin)\n",
    "    elif(re.search(\"[0-9]\", currentchar) != None): #prepend number with 27\n",
    "        numiter = 0\n",
    "        while(len(beginstr) > numiter and re.search(\"[0-9]\", beginstr[numiter]) != None):\n",
    "            numiter += 1\n",
    "        currentnum = currentchar + \"\".join(beginstr[:numiter])\n",
    "        beginstr = beginstr[numiter:]\n",
    "        print(currentnum)\n",
    "        workingbin += list(format(27, \"05b\"))\n",
    "        #addedbin = \"1\" + largedecnum(int(currentnum))\n",
    "        addedbin = largedecnum(int(currentnum))\n",
    "        workingbin += list(addedbin)\n",
    "        "
   ]
  },
  {
   "cell_type": "code",
   "execution_count": 36,
   "metadata": {
    "ExecuteTime": {
     "end_time": "2020-04-09T22:40:54.320028Z",
     "start_time": "2020-04-09T22:40:54.315008Z"
    }
   },
   "outputs": [
    {
     "name": "stdout",
     "output_type": "stream",
     "text": [
      "00000110111000001101110000011011100000110111000001101110000011011100000110111000001101110000011011100000110111000001101110000011011100000110111000001101110000011011100000110111000001101110000011011100000110111000001101110000011011100000110111000001101110000011011100000110111000001101110000011011100000110111000001101110000011011100000110111000001101110000011011100000110111000001101110000011011100000110111000001101110000011011100000110111000001101110000011011100000110111000001101110000011011100000110111000001101110000011011100000110111000001101110000011011100000110111000001101110000011011100000110111000001101110000011011100000110111000001101110000011011100000110111000001101110000011011100000110111\n"
     ]
    }
   ],
   "source": [
    "print(\"\".join(workingbin))"
   ]
  },
  {
   "cell_type": "code",
   "execution_count": 37,
   "metadata": {
    "ExecuteTime": {
     "end_time": "2020-04-09T22:40:56.386813Z",
     "start_time": "2020-04-09T22:40:56.377708Z"
    }
   },
   "outputs": [
    {
     "name": "stdout",
     "output_type": "stream",
     "text": [
      "704 bits / 32 chars = 22.0 bits/char (on avg.)\n"
     ]
    }
   ],
   "source": [
    "print(str(len(workingbin)) + \" bits / \" + str(len(instr)) + \" chars = \" + str(len(workingbin)*1.0/len(instr)) + \" bits/char (on avg.)\")"
   ]
  },
  {
   "cell_type": "code",
   "execution_count": 35,
   "metadata": {
    "ExecuteTime": {
     "end_time": "2020-04-06T00:02:10.405146Z",
     "start_time": "2020-04-06T00:02:10.401016Z"
    }
   },
   "outputs": [],
   "source": [
    "#FOR DECODE. Create decimal from padded binary\n",
    "def largenumdec(): #using double Size Method\n",
    "    global beginbin\n",
    "    oneindex = beginbin.index('1')\n",
    "    numlength = oneindex * 2 + 1\n",
    "    assert 0 < oneindex\n",
    "    assert len(beginbin) >= numlength-1 #+1-1\n",
    "    toret = int(\"\".join(beginbin[oneindex:numlength]),2)\n",
    "    beginbin = beginbin[numlength:]\n",
    "    return toret"
   ]
  },
  {
   "cell_type": "code",
   "execution_count": null,
   "metadata": {
    "ExecuteTime": {
     "end_time": "2020-04-06T00:09:43.118663Z",
     "start_time": "2020-04-06T00:09:43.113802Z"
    }
   },
   "outputs": [],
   "source": []
  },
  {
   "cell_type": "code",
   "execution_count": 33,
   "metadata": {
    "ExecuteTime": {
     "end_time": "2020-04-05T23:57:50.838015Z",
     "start_time": "2020-04-05T23:57:50.834271Z"
    }
   },
   "outputs": [
    {
     "name": "stdout",
     "output_type": "stream",
     "text": [
      "42\n",
      "['1', '0', '1', '0', '1', '0']\n"
     ]
    }
   ],
   "source": [
    "mynum = largenumdec()\n",
    "print(mynum)\n",
    "print(beginbin)"
   ]
  },
  {
   "cell_type": "code",
   "execution_count": 34,
   "metadata": {
    "ExecuteTime": {
     "end_time": "2020-04-05T23:59:51.244958Z",
     "start_time": "2020-04-05T23:59:51.240732Z"
    }
   },
   "outputs": [
    {
     "data": {
      "text/plain": [
       "['1', '0', '1', '0', '1', '0']"
      ]
     },
     "execution_count": 34,
     "metadata": {},
     "output_type": "execute_result"
    }
   ],
   "source": [
    "beginbin"
   ]
  },
  {
   "cell_type": "code",
   "execution_count": 29,
   "metadata": {
    "ExecuteTime": {
     "end_time": "2020-04-06T00:38:12.811039Z",
     "start_time": "2020-04-06T00:38:12.807496Z"
    }
   },
   "outputs": [
    {
     "data": {
      "text/plain": [
       "'10110'"
      ]
     },
     "execution_count": 29,
     "metadata": {},
     "output_type": "execute_result"
    }
   ],
   "source": [
    "format(ord(\"w\")-97, \"05b\")"
   ]
  },
  {
   "cell_type": "code",
   "execution_count": null,
   "metadata": {},
   "outputs": [],
   "source": [
    "def retrieve(retlen):\n",
    "    if verb >= 2:\n",
    "        print('retrieving ' + str(retlen))\n",
    "    assert len(beginbin) >= retlen\n",
    "    toret = []\n",
    "    for i in range(retlen):\n",
    "        toret.append(beginbin.pop(0))\n",
    "    return join(toret)"
   ]
  },
  {
   "cell_type": "code",
   "execution_count": 12,
   "metadata": {
    "ExecuteTime": {
     "end_time": "2020-04-05T23:46:25.479795Z",
     "start_time": "2020-04-05T23:46:25.475776Z"
    }
   },
   "outputs": [],
   "source": [
    "def largenumdec(): #using double Size Method\n",
    "    oneindex = beginbin.index('1')\n",
    "    numlength = oneindex * 2 + 1\n",
    "    assert 0 < oneindex\n",
    "    assert len(beginbin) >= numlength-1 #+1-1\n",
    "    toret = int(beginbin[oneindex:numlength],2)\n",
    "    beginbin = beginbin[numlength:]\n",
    "    return toret"
   ]
  },
  {
   "cell_type": "code",
   "execution_count": 1,
   "metadata": {
    "ExecuteTime": {
     "end_time": "2020-04-09T20:34:05.299970Z",
     "start_time": "2020-04-09T20:34:05.286090Z"
    }
   },
   "outputs": [],
   "source": [
    "def alphanumeric(inbin):\n",
    "    if(verb >= 1):\n",
    "        print('alphanumeric')\n",
    "    #1 bit\n",
    "    if(inbin[0] == '0'):\n",
    "        #3 bits 0-25 is a-z\n",
    "        incharnum = int(inbin[1:4],2)\n",
    "        if(incharnum < 26): #h\n",
    "            if(verb >= 1):\n",
    "                print('is letter')\n",
    "            inchar = chr(incharnum + 97)\n",
    "            print(inchar)\n",
    "            workingstr.append(inchar)\n",
    "\n",
    "    elif(inchar[0] == '1'):\n",
    "        print('1')\n",
    "\n",
    "    return "
   ]
  },
  {
   "cell_type": "code",
   "execution_count": null,
   "metadata": {},
   "outputs": [],
   "source": [
    "#old, v1.0 6bits per char on avg. (1 bit pointer + 5 bit char)\n",
    "while len(beginstr) > 0:\n",
    "    currentchar = beginstr.pop(0)\n",
    "    print(currentchar)\n",
    "    if(re.search(\"[a-zA-Z]\", currentchar) != None):\n",
    "        if(currentchar.isupper()):\n",
    "            currentchar = currentchar.lower()\n",
    "        workingbin.append(\"0\")\n",
    "        addedbin = format(ord(currentchar)-97, \"05b\")\n",
    "        if(verb >= 2):\n",
    "            print(addedbin)\n",
    "        workingbin += list(addedbin)\n",
    "    elif(re.search(\"\\s\", currentchar) != None): #for space add 26\n",
    "        workingbin.append(\"0\")\n",
    "        addedbin = format(26, \"05b\")\n",
    "        if(verb >= 2):\n",
    "            print(addedbin)\n",
    "        workingbin += list(addedbin)\n",
    "    elif(re.search(\"[0-9]\", currentchar) != None):\n",
    "        numiter = 0\n",
    "        while(len(beginstr) > numiter and re.search(\"[0-9]\", beginstr[numiter]) != None):\n",
    "            numiter += 1\n",
    "        currentnum = currentchar + \"\".join(beginstr[:numiter])\n",
    "        beginstr = beginstr[numiter:]\n",
    "        print(currentnum)\n",
    "        addedbin = \"1\" + largedecnum(int(currentnum))\n",
    "        workingbin += list(addedbin)\n",
    "        "
   ]
  },
  {
   "cell_type": "code",
   "execution_count": null,
   "metadata": {},
   "outputs": [],
   "source": [
    "\t\n",
    "def repeat():\n",
    "\treturn"
   ]
  },
  {
   "cell_type": "code",
   "execution_count": null,
   "metadata": {},
   "outputs": [],
   "source": [
    "def main():\n",
    "\tfor n in range(30-40):\n",
    "\t\tprint(bytearray(n).decode())\n",
    "\tinbinary = \"0000010\"\n",
    "\tprint(inbinary)\n",
    "\tbeginbin = list(inbinary)\n",
    "\talphanumeric(inbinary[0:4])\n",
    "\t"
   ]
  },
  {
   "cell_type": "code",
   "execution_count": null,
   "metadata": {},
   "outputs": [],
   "source": [
    "if __name__ == '__main__':\n",
    "\tmain()\n",
    "\t"
   ]
  }
 ],
 "metadata": {
  "kernelspec": {
   "display_name": "Python3 (env)",
   "language": "python",
   "name": "py3env"
  },
  "language_info": {
   "codemirror_mode": {
    "name": "ipython",
    "version": 3
   },
   "file_extension": ".py",
   "mimetype": "text/x-python",
   "name": "python",
   "nbconvert_exporter": "python",
   "pygments_lexer": "ipython3",
   "version": "3.6.7"
  }
 },
 "nbformat": 4,
 "nbformat_minor": 4
}
