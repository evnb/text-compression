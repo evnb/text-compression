{
 "cells": [
  {
   "cell_type": "code",
   "execution_count": 9,
   "metadata": {
    "ExecuteTime": {
     "end_time": "2020-04-09T22:18:57.469859Z",
     "start_time": "2020-04-09T22:18:57.467381Z"
    }
   },
   "outputs": [],
   "source": [
    "#import console\n",
    "import re"
   ]
  },
  {
   "cell_type": "code",
   "execution_count": 10,
   "metadata": {
    "ExecuteTime": {
     "end_time": "2020-04-09T22:18:57.928161Z",
     "start_time": "2020-04-09T22:18:57.925143Z"
    }
   },
   "outputs": [],
   "source": [
    "verb = 2\n",
    "\n",
    "workingbin = [] #destructive\n",
    "beginstr = [] #constructive"
   ]
  },
  {
   "cell_type": "code",
   "execution_count": 11,
   "metadata": {
    "ExecuteTime": {
     "end_time": "2020-04-09T22:18:58.377501Z",
     "start_time": "2020-04-09T22:18:58.371753Z"
    }
   },
   "outputs": [
    {
     "name": "stdout",
     "output_type": "stream",
     "text": [
      "nick dodd is a student at stevens and has a gpa above 3 point 5\n"
     ]
    },
    {
     "data": {
      "text/plain": [
       "['n',\n",
       " 'i',\n",
       " 'c',\n",
       " 'k',\n",
       " ' ',\n",
       " 'd',\n",
       " 'o',\n",
       " 'd',\n",
       " 'd',\n",
       " ' ',\n",
       " 'i',\n",
       " 's',\n",
       " ' ',\n",
       " 'a',\n",
       " ' ',\n",
       " 's',\n",
       " 't',\n",
       " 'u',\n",
       " 'd',\n",
       " 'e',\n",
       " 'n',\n",
       " 't',\n",
       " ' ',\n",
       " 'a',\n",
       " 't',\n",
       " ' ',\n",
       " 's',\n",
       " 't',\n",
       " 'e',\n",
       " 'v',\n",
       " 'e',\n",
       " 'n',\n",
       " 's',\n",
       " ' ',\n",
       " 'a',\n",
       " 'n',\n",
       " 'd',\n",
       " ' ',\n",
       " 'h',\n",
       " 'a',\n",
       " 's',\n",
       " ' ',\n",
       " 'a',\n",
       " ' ',\n",
       " 'g',\n",
       " 'p',\n",
       " 'a',\n",
       " ' ',\n",
       " 'a',\n",
       " 'b',\n",
       " 'o',\n",
       " 'v',\n",
       " 'e',\n",
       " ' ',\n",
       " '3',\n",
       " ' ',\n",
       " 'p',\n",
       " 'o',\n",
       " 'i',\n",
       " 'n',\n",
       " 't',\n",
       " ' ',\n",
       " '5']"
      ]
     },
     "execution_count": 11,
     "metadata": {},
     "output_type": "execute_result"
    }
   ],
   "source": [
    "instr = \"nick dodd is a student at stevens and has a gpa above 3 point 5\"\n",
    "print(instr)\n",
    "beginstr = list(instr)\n",
    "beginstr"
   ]
  },
  {
   "cell_type": "code",
   "execution_count": 12,
   "metadata": {
    "ExecuteTime": {
     "end_time": "2020-04-09T22:18:58.897360Z",
     "start_time": "2020-04-09T22:18:58.894215Z"
    }
   },
   "outputs": [],
   "source": [
    "#FOR ENCODE. Create padded binary from decimal\n",
    "def largedecnum(numin): #using double Size Method\n",
    "    basebin = bin(numin)[2:]\n",
    "    print(basebin)\n",
    "    pado = \"0\"*(len(basebin)-1)\n",
    "    return pado + basebin"
   ]
  },
  {
   "cell_type": "code",
   "execution_count": 13,
   "metadata": {
    "ExecuteTime": {
     "end_time": "2020-04-09T22:19:00.001051Z",
     "start_time": "2020-04-09T22:18:59.997678Z"
    }
   },
   "outputs": [
    {
     "name": "stdout",
     "output_type": "stream",
     "text": [
      "[]\n",
      "\n",
      "['n', 'i', 'c', 'k', ' ', 'd', 'o', 'd', 'd', ' ', 'i', 's', ' ', 'a', ' ', 's', 't', 'u', 'd', 'e', 'n', 't', ' ', 'a', 't', ' ', 's', 't', 'e', 'v', 'e', 'n', 's', ' ', 'a', 'n', 'd', ' ', 'h', 'a', 's', ' ', 'a', ' ', 'g', 'p', 'a', ' ', 'a', 'b', 'o', 'v', 'e', ' ', '3', ' ', 'p', 'o', 'i', 'n', 't', ' ', '5']\n"
     ]
    }
   ],
   "source": [
    "print(workingbin)\n",
    "print(\"\".join(workingbin))\n",
    "print(beginstr)"
   ]
  },
  {
   "cell_type": "code",
   "execution_count": 14,
   "metadata": {
    "ExecuteTime": {
     "end_time": "2020-04-09T22:19:06.399685Z",
     "start_time": "2020-04-09T22:19:06.375759Z"
    }
   },
   "outputs": [
    {
     "name": "stdout",
     "output_type": "stream",
     "text": [
      "n\n",
      "01101\n",
      "i\n",
      "01000\n",
      "c\n",
      "00010\n",
      "k\n",
      "01010\n",
      " \n",
      "11010\n",
      "d\n",
      "00011\n",
      "o\n",
      "01110\n",
      "d\n",
      "00011\n",
      "d\n",
      "00011\n",
      " \n",
      "11010\n",
      "i\n",
      "01000\n",
      "s\n",
      "10010\n",
      " \n",
      "11010\n",
      "a\n",
      "00000\n",
      " \n",
      "11010\n",
      "s\n",
      "10010\n",
      "t\n",
      "10011\n",
      "u\n",
      "10100\n",
      "d\n",
      "00011\n",
      "e\n",
      "00100\n",
      "n\n",
      "01101\n",
      "t\n",
      "10011\n",
      " \n",
      "11010\n",
      "a\n",
      "00000\n",
      "t\n",
      "10011\n",
      " \n",
      "11010\n",
      "s\n",
      "10010\n",
      "t\n",
      "10011\n",
      "e\n",
      "00100\n",
      "v\n",
      "10101\n",
      "e\n",
      "00100\n",
      "n\n",
      "01101\n",
      "s\n",
      "10010\n",
      " \n",
      "11010\n",
      "a\n",
      "00000\n",
      "n\n",
      "01101\n",
      "d\n",
      "00011\n",
      " \n",
      "11010\n",
      "h\n",
      "00111\n",
      "a\n",
      "00000\n",
      "s\n",
      "10010\n",
      " \n",
      "11010\n",
      "a\n",
      "00000\n",
      " \n",
      "11010\n",
      "g\n",
      "00110\n",
      "p\n",
      "01111\n",
      "a\n",
      "00000\n",
      " \n",
      "11010\n",
      "a\n",
      "00000\n",
      "b\n",
      "00001\n",
      "o\n",
      "01110\n",
      "v\n",
      "10101\n",
      "e\n",
      "00100\n",
      " \n",
      "11010\n",
      "3\n",
      "3\n",
      "11\n",
      " \n",
      "11010\n",
      "p\n",
      "01111\n",
      "o\n",
      "01110\n",
      "i\n",
      "01000\n",
      "n\n",
      "01101\n",
      "t\n",
      "10011\n",
      " \n",
      "11010\n",
      "5\n",
      "5\n",
      "101\n"
     ]
    }
   ],
   "source": [
    "#v1.1, 5 bits per character, numbers have an added 5 bits.\n",
    "while len(beginstr) > 0:\n",
    "    currentchar = beginstr.pop(0)\n",
    "    print(currentchar)\n",
    "    if(re.search(\"[a-zA-Z]\", currentchar) != None):\n",
    "        if(currentchar.isupper()):\n",
    "            currentchar = currentchar.lower()\n",
    "        #workingbin.append(\"0\")\n",
    "        addedbin = format(ord(currentchar)-97, \"05b\")\n",
    "        if(verb >= 2):\n",
    "            print(addedbin)\n",
    "        workingbin += list(addedbin)\n",
    "    elif(re.search(\"\\s\", currentchar) != None): #for space add 26\n",
    "        #workingbin.append(\"0\")\n",
    "        addedbin = format(26, \"05b\")\n",
    "        if(verb >= 2):\n",
    "            print(addedbin)\n",
    "        workingbin += list(addedbin)\n",
    "    elif(re.search(\"[0-9]\", currentchar) != None): #prepend number with 27\n",
    "        numiter = 0\n",
    "        while(len(beginstr) > numiter and re.search(\"[0-9]\", beginstr[numiter]) != None):\n",
    "            numiter += 1\n",
    "        currentnum = currentchar + \"\".join(beginstr[:numiter])\n",
    "        beginstr = beginstr[numiter:]\n",
    "        print(currentnum)\n",
    "        workingbin += list(format(27, \"05b\"))\n",
    "        #addedbin = \"1\" + largedecnum(int(currentnum))\n",
    "        addedbin = largedecnum(int(currentnum))\n",
    "        workingbin += list(addedbin)\n",
    "        "
   ]
  },
  {
   "cell_type": "code",
   "execution_count": 16,
   "metadata": {
    "ExecuteTime": {
     "end_time": "2020-04-09T22:35:04.390621Z",
     "start_time": "2020-04-09T22:35:04.385899Z"
    }
   },
   "outputs": [
    {
     "name": "stdout",
     "output_type": "stream",
     "text": [
      "01101010000001001010110100001101110000110001111010010001001011010000001101010010100111010000011001000110110011110100000010011110101001010011001001010100100011011001011010000000110100011110100011100000100101101000000110100011001111000001101000000000010111010101001001101011011011110100111101110010000110110011110101101100101\n"
     ]
    }
   ],
   "source": [
    "print(\"\".join(workingbin))"
   ]
  },
  {
   "cell_type": "code",
   "execution_count": null,
   "metadata": {},
   "outputs": [],
   "source": [
    "print(str(len(workingbin)) + \" bits / \" + str(len(instr)) + \" chars = \" + str(len(workingbin)*1.0/len(instr)) + \" bits/char (on avg.)\")"
   ]
  },
  {
   "cell_type": "code",
   "execution_count": 35,
   "metadata": {
    "ExecuteTime": {
     "end_time": "2020-04-06T00:02:10.405146Z",
     "start_time": "2020-04-06T00:02:10.401016Z"
    }
   },
   "outputs": [],
   "source": [
    "#FOR DECODE. Create decimal from padded binary\n",
    "def largenumdec(): #using double Size Method\n",
    "    global beginbin\n",
    "    oneindex = beginbin.index('1')\n",
    "    numlength = oneindex * 2 + 1\n",
    "    assert 0 < oneindex\n",
    "    assert len(beginbin) >= numlength-1 #+1-1\n",
    "    toret = int(\"\".join(beginbin[oneindex:numlength]),2)\n",
    "    beginbin = beginbin[numlength:]\n",
    "    return toret"
   ]
  },
  {
   "cell_type": "code",
   "execution_count": null,
   "metadata": {
    "ExecuteTime": {
     "end_time": "2020-04-06T00:09:43.118663Z",
     "start_time": "2020-04-06T00:09:43.113802Z"
    }
   },
   "outputs": [],
   "source": []
  },
  {
   "cell_type": "code",
   "execution_count": 33,
   "metadata": {
    "ExecuteTime": {
     "end_time": "2020-04-05T23:57:50.838015Z",
     "start_time": "2020-04-05T23:57:50.834271Z"
    }
   },
   "outputs": [
    {
     "name": "stdout",
     "output_type": "stream",
     "text": [
      "42\n",
      "['1', '0', '1', '0', '1', '0']\n"
     ]
    }
   ],
   "source": [
    "mynum = largenumdec()\n",
    "print(mynum)\n",
    "print(beginbin)"
   ]
  },
  {
   "cell_type": "code",
   "execution_count": 34,
   "metadata": {
    "ExecuteTime": {
     "end_time": "2020-04-05T23:59:51.244958Z",
     "start_time": "2020-04-05T23:59:51.240732Z"
    }
   },
   "outputs": [
    {
     "data": {
      "text/plain": [
       "['1', '0', '1', '0', '1', '0']"
      ]
     },
     "execution_count": 34,
     "metadata": {},
     "output_type": "execute_result"
    }
   ],
   "source": [
    "beginbin"
   ]
  },
  {
   "cell_type": "code",
   "execution_count": 29,
   "metadata": {
    "ExecuteTime": {
     "end_time": "2020-04-06T00:38:12.811039Z",
     "start_time": "2020-04-06T00:38:12.807496Z"
    }
   },
   "outputs": [
    {
     "data": {
      "text/plain": [
       "'10110'"
      ]
     },
     "execution_count": 29,
     "metadata": {},
     "output_type": "execute_result"
    }
   ],
   "source": [
    "format(ord(\"w\")-97, \"05b\")"
   ]
  },
  {
   "cell_type": "code",
   "execution_count": null,
   "metadata": {},
   "outputs": [],
   "source": [
    "def retrieve(retlen):\n",
    "    if verb >= 2:\n",
    "        print('retrieving ' + str(retlen))\n",
    "    assert len(beginbin) >= retlen\n",
    "    toret = []\n",
    "    for i in range(retlen):\n",
    "        toret.append(beginbin.pop(0))\n",
    "    return join(toret)"
   ]
  },
  {
   "cell_type": "code",
   "execution_count": 12,
   "metadata": {
    "ExecuteTime": {
     "end_time": "2020-04-05T23:46:25.479795Z",
     "start_time": "2020-04-05T23:46:25.475776Z"
    }
   },
   "outputs": [],
   "source": [
    "def largenumdec(): #using double Size Method\n",
    "    oneindex = beginbin.index('1')\n",
    "    numlength = oneindex * 2 + 1\n",
    "    assert 0 < oneindex\n",
    "    assert len(beginbin) >= numlength-1 #+1-1\n",
    "    toret = int(beginbin[oneindex:numlength],2)\n",
    "    beginbin = beginbin[numlength:]\n",
    "    return toret"
   ]
  },
  {
   "cell_type": "code",
   "execution_count": 1,
   "metadata": {
    "ExecuteTime": {
     "end_time": "2020-04-09T20:34:05.299970Z",
     "start_time": "2020-04-09T20:34:05.286090Z"
    }
   },
   "outputs": [],
   "source": [
    "def alphanumeric(inbin):\n",
    "    if(verb >= 1):\n",
    "        print('alphanumeric')\n",
    "    #1 bit\n",
    "    if(inbin[0] == '0'):\n",
    "        #3 bits 0-25 is a-z\n",
    "        incharnum = int(inbin[1:4],2)\n",
    "        if(incharnum < 26): #h\n",
    "            if(verb >= 1):\n",
    "                print('is letter')\n",
    "            inchar = chr(incharnum + 97)\n",
    "            print(inchar)\n",
    "            workingstr.append(inchar)\n",
    "\n",
    "    elif(inchar[0] == '1'):\n",
    "        print('1')\n",
    "\n",
    "    return "
   ]
  },
  {
   "cell_type": "code",
   "execution_count": null,
   "metadata": {},
   "outputs": [],
   "source": [
    "#old, v1.0 6bits per char on avg. (1 bit pointer + 5 bit char)\n",
    "while len(beginstr) > 0:\n",
    "    currentchar = beginstr.pop(0)\n",
    "    print(currentchar)\n",
    "    if(re.search(\"[a-zA-Z]\", currentchar) != None):\n",
    "        if(currentchar.isupper()):\n",
    "            currentchar = currentchar.lower()\n",
    "        workingbin.append(\"0\")\n",
    "        addedbin = format(ord(currentchar)-97, \"05b\")\n",
    "        if(verb >= 2):\n",
    "            print(addedbin)\n",
    "        workingbin += list(addedbin)\n",
    "    elif(re.search(\"\\s\", currentchar) != None): #for space add 26\n",
    "        workingbin.append(\"0\")\n",
    "        addedbin = format(26, \"05b\")\n",
    "        if(verb >= 2):\n",
    "            print(addedbin)\n",
    "        workingbin += list(addedbin)\n",
    "    elif(re.search(\"[0-9]\", currentchar) != None):\n",
    "        numiter = 0\n",
    "        while(len(beginstr) > numiter and re.search(\"[0-9]\", beginstr[numiter]) != None):\n",
    "            numiter += 1\n",
    "        currentnum = currentchar + \"\".join(beginstr[:numiter])\n",
    "        beginstr = beginstr[numiter:]\n",
    "        print(currentnum)\n",
    "        addedbin = \"1\" + largedecnum(int(currentnum))\n",
    "        workingbin += list(addedbin)\n",
    "        "
   ]
  },
  {
   "cell_type": "code",
   "execution_count": null,
   "metadata": {},
   "outputs": [],
   "source": [
    "\t\n",
    "def repeat():\n",
    "\treturn"
   ]
  },
  {
   "cell_type": "code",
   "execution_count": null,
   "metadata": {},
   "outputs": [],
   "source": [
    "def main():\n",
    "\tfor n in range(30-40):\n",
    "\t\tprint(bytearray(n).decode())\n",
    "\tinbinary = \"0000010\"\n",
    "\tprint(inbinary)\n",
    "\tbeginbin = list(inbinary)\n",
    "\talphanumeric(inbinary[0:4])\n",
    "\t"
   ]
  },
  {
   "cell_type": "code",
   "execution_count": null,
   "metadata": {},
   "outputs": [],
   "source": [
    "if __name__ == '__main__':\n",
    "\tmain()\n",
    "\t"
   ]
  }
 ],
 "metadata": {
  "kernelspec": {
   "display_name": "Python3 (env)",
   "language": "python",
   "name": "py3env"
  },
  "language_info": {
   "codemirror_mode": {
    "name": "ipython",
    "version": 3
   },
   "file_extension": ".py",
   "mimetype": "text/x-python",
   "name": "python",
   "nbconvert_exporter": "python",
   "pygments_lexer": "ipython3",
   "version": "3.6.7"
  }
 },
 "nbformat": 4,
 "nbformat_minor": 4
}
